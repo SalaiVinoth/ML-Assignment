{
 "cells": [
  {
   "cell_type": "markdown",
   "metadata": {},
   "source": [
    "# Adagrad algorithm implementation\n",
    "#### Name : Salai Vinoth SA\n",
    "#### Reg No : 120003264\n",
    "#### Roll No : F-8"
   ]
  },
  {
   "cell_type": "markdown",
   "metadata": {},
   "source": [
    "# Imports"
   ]
  },
  {
   "cell_type": "code",
   "execution_count": 1,
   "metadata": {},
   "outputs": [],
   "source": [
    "import autograd.numpy as np\n",
    "import matplotlib.pyplot as plt\n",
    "import pandas as pd\n",
    "%matplotlib inline"
   ]
  },
  {
   "cell_type": "markdown",
   "metadata": {},
   "source": [
    "# Generating Data"
   ]
  },
  {
   "cell_type": "code",
   "execution_count": 2,
   "metadata": {},
   "outputs": [],
   "source": [
    "np.random.seed(0)\n",
    "n_samples = 50\n",
    "X = np.linspace(1, 50, n_samples)\n",
    "Y = 10*X + 6 + 2*np.random.randn(n_samples)"
   ]
  },
  {
   "cell_type": "code",
   "execution_count": 3,
   "metadata": {},
   "outputs": [
    {
     "data": {
      "image/png": "[encoded data removed]",
      "text/plain": [
       "<Figure size 432x288 with 1 Axes>"
      ]
     },
     "metadata": {},
     "output_type": "display_data"
    }
   ],
   "source": [
    "plt.plot(X, Y, 'k.')\n",
    "plt.xlabel(\"X\")\n",
    "plt.ylabel(\"Y\");"
   ]
  },
  {
   "cell_type": "markdown",
   "metadata": {},
   "source": [
    "# Cost Function"
   ]
  },
  {
   "cell_type": "code",
   "execution_count": 4,
   "metadata": {},
   "outputs": [],
   "source": [
    "def cost(param_list):\n",
    "    w, b = param_list\n",
    "    pred = w*X+b\n",
    "    return np.sqrt(((pred - Y) ** 2).mean(axis=None))/(2*len(Y))"
   ]
  },
  {
   "cell_type": "code",
   "execution_count": 5,
   "metadata": {},
   "outputs": [
    {
     "name": "stdout",
     "output_type": "stream",
     "text": [
      "Cost at w=0.0, b=0.0 is: 2.9809044649485408\n",
      "Cost at w=10.0, b=4.0 is: 0.03204794719387623\n",
      "Gradient at w=0.0, b=0.0 is: [array(-0.29297047), array(-0.00876516)]\n",
      "Gradient at w=10.0, b=4.0 is: [array(-0.14406455), array(-0.00711783)]\n"
     ]
    }
   ],
   "source": [
    "# Cost of w=0, b=0\n",
    "w, b = 0., 0.\n",
    "print(\"Cost at w={}, b={} is: {}\".format(w, b, cost([w, b])))\n",
    "\n",
    "# Cost of w=10, b=4. Should be lower than w=0, b=0\n",
    "w, b = 10., 4.\n",
    "print(\"Cost at w={}, b={} is: {}\".format(w, b, cost([w, b])))\n",
    "\n",
    "# Computing the gradient at w=0, b=0\n",
    "from autograd import grad\n",
    "grad_cost =grad(cost)\n",
    "w, b = 0., 0.\n",
    "print(\"Gradient at w={}, b={} is: {}\".format(w, b, grad_cost([w, b])))\n",
    "\n",
    "# Computing the gradient at w=10, b=4. We would expect it to be smaller than at 0, 0\n",
    "w, b = 10., 4.\n",
    "print(\"Gradient at w={}, b={} is: {}\".format(w, b, grad_cost([w, b])))"
   ]
  },
  {
   "cell_type": "markdown",
   "metadata": {},
   "source": [
    "# Adagrad algorithm"
   ]
  },
  {
   "cell_type": "code",
   "execution_count": 6,
   "metadata": {},
   "outputs": [],
   "source": [
    "def adagrad_gd(param_init, cost, niter=5, lr=1e-2, eps=1e-8, random_seed=0):\n",
    "    \"\"\"\n",
    "    param_init: List of initial values of parameters\n",
    "    cost: cost function\n",
    "    niter: Number of iterations to run\n",
    "    lr: Learning rate\n",
    "    eps: Fudge factor, to avoid division by zero\n",
    "    \"\"\"\n",
    "    from copy import deepcopy\n",
    "    import math\n",
    "    # Fixing the random_seed\n",
    "    np.random.seed(random_seed)\n",
    "    \n",
    "    # Function to compute the gradient of the cost function\n",
    "    grad_cost = grad(cost)\n",
    "    params = deepcopy(param_init)\n",
    "    param_array, grad_array, lr_array, cost_array = [params], [], [[lr for _ in params]], [cost(params)]\n",
    "    # Initialising sum of squares of gradients for each param as 0\n",
    "    sum_squares_gradients = [np.zeros_like(param) for param in params]\n",
    "    for i in range(niter):\n",
    "        out_params = []\n",
    "        gradients = grad_cost(params)\n",
    "        # At each iteration, we add the square of the gradients to `sum_squares_gradients`\n",
    "        sum_squares_gradients= [eps + sum_prev + np.square(g) for sum_prev, g in zip(sum_squares_gradients, gradients)]\n",
    "        # Adapted learning rate for parameter list\n",
    "        lrs = [np.divide(lr, np.sqrt(sg)) for sg in sum_squares_gradients]\n",
    "        # Paramter update\n",
    "        params = [param-(adapted_lr*grad_param) for param, adapted_lr, grad_param in zip(params, lrs, gradients)]\n",
    "        param_array.append(params)\n",
    "        lr_array.append(lrs)\n",
    "        grad_array.append(gradients)\n",
    "        cost_array.append(cost(params))\n",
    "        \n",
    "    return params, param_array, grad_array, lr_array, cost_array"
   ]
  },
  {
   "cell_type": "markdown",
   "metadata": {},
   "source": [
    "# Experiment"
   ]
  },
  {
   "cell_type": "code",
   "execution_count": 7,
   "metadata": {},
   "outputs": [],
   "source": [
    "# Fixing the random seed for reproducible init params for `W` and `b`\n",
    "np.random.seed(0)\n",
    "param_init = [np.random.randn(), np.random.randn()]\n",
    "lr = 0.01\n",
    "eps=1e-8\n",
    "niter=1000\n",
    "ada_params, ada_param_array, ada_grad_array, ada_lr_array, ada_cost_array = adagrad_gd(param_init, cost, niter=niter, lr=lr, eps=eps)"
   ]
  },
  {
   "cell_type": "code",
   "execution_count": 8,
   "metadata": {},
   "outputs": [
    {
     "data": {
      "image/png": "[encoded data removed]",
      "text/plain": [
       "<Figure size 432x288 with 1 Axes>"
      ]
     },
     "metadata": {},
     "output_type": "display_data"
    }
   ],
   "source": [
    "pd.Series(ada_cost_array, name='Cost').plot(title='Adagrad: Cost v/s # Iterations')\n",
    "plt.ylabel(\"Cost\")\n",
    "plt.xlabel(\"# Iterations\");"
   ]
  },
  {
   "cell_type": "code",
   "execution_count": 9,
   "metadata": {},
   "outputs": [
    {
     "name": "stdout",
     "output_type": "stream",
     "text": [
      "After 1000 iterations, learnt `W` = 2.382061945262103 and learnt `b` = 1.0181187887311143\n"
     ]
    }
   ],
   "source": [
    "print(\"After {} iterations, learnt `W` = {} and learnt `b` = {}\".format(niter, *ada_params))"
   ]
  },
  {
   "cell_type": "code",
   "execution_count": null,
   "metadata": {},
   "outputs": [],
   "source": []
  }
 ],
 "metadata": {
  "kernelspec": {
   "display_name": "Python 3",
   "language": "python",
   "name": "python3"
  },
  "language_info": {
   "codemirror_mode": {
    "name": "ipython",
    "version": 3
   },
   "file_extension": ".py",
   "mimetype": "text/x-python",
   "name": "python",
   "nbconvert_exporter": "python",
   "pygments_lexer": "ipython3",
   "version": "3.6.5"
  }
 },
 "nbformat": 4,
 "nbformat_minor": 2
}
